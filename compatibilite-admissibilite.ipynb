{
 "cells": [
  {
   "cell_type": "code",
   "execution_count": 2,
   "id": "087c3bcf",
   "metadata": {},
   "outputs": [],
   "source": [
    "import numpy as np\n",
    "import matplotlib.pyplot as plt\n",
    "import numpy as np\n",
    "from scipy.optimize import minimize"
   ]
  },
  {
   "cell_type": "markdown",
   "id": "2899de9e",
   "metadata": {},
   "source": [
    "# Choix des $q_k$ aléatoires"
   ]
  },
  {
   "cell_type": "code",
   "execution_count": 290,
   "id": "3cb70981",
   "metadata": {},
   "outputs": [],
   "source": [
    "def next_matrix(Q, w0, x0, w, x, max_iter):\n",
    "    N = len(x)\n",
    "    Q_tilde = np.zeros((N+1, N+1))\n",
    "    Q_tilde[1:, 1:] = Q\n",
    "    Q_tilde[N, 0] = w0\n",
    "    \n",
    "    x_tilde = np.zeros(N+1)\n",
    "    x_tilde[0] = x0\n",
    "    for i in range(N):\n",
    "        x_tilde[i+1] = x[i]\n",
    "\n",
    "    it = 0\n",
    "    while(it < max_iter):\n",
    "        is_compatible = True\n",
    "        q = 100*np.random.randn(N)\n",
    "\n",
    "        Q_tilde[0, 0] = - np.sum(q)\n",
    "        for i in range(N):\n",
    "            Q_tilde[0, i+1] = q[i]\n",
    "\n",
    "        # vérification de la compatibilité\n",
    "        Q_tilde_inv = np.linalg.inv(Q_tilde)\n",
    "        \n",
    "        # [Q_tilde Diag(x0,x1,...,xN) Q_tilde-1]ij <= 0 pour i != j\n",
    "        D_tilde = np.diag(x_tilde)\n",
    "        A = Q_tilde @ D_tilde @ Q_tilde_inv\n",
    "        for i in range(N+1):\n",
    "            for j in range(N+1):\n",
    "                if(i != j and A[i, j] > 0):\n",
    "                    is_compatible = False\n",
    "        it += 1\n",
    "        \n",
    "        if(is_compatible):\n",
    "            return A, Q_tilde\n",
    "    return None, None"
   ]
  },
  {
   "cell_type": "code",
   "execution_count": 291,
   "id": "2918b5b7",
   "metadata": {},
   "outputs": [],
   "source": [
    "x = np.array([9, 10, 11])\n",
    "w = np.array([5, 2, 10])\n",
    "\n",
    "b = 1\n",
    "y1 = x[1]-x[0]\n",
    "y2 = x[2]- x[1]\n",
    "a = (y1+y2) / y2\n",
    "Q = np.array([[1, -a, -1+a],\n",
    "              [1, b, -1-b],\n",
    "              [w[0], w[1], w[2]]])\n",
    "\n",
    "x0 = 1\n",
    "w0 = 10"
   ]
  },
  {
   "cell_type": "code",
   "execution_count": 294,
   "id": "f3418c25",
   "metadata": {},
   "outputs": [
    {
     "name": "stdout",
     "output_type": "stream",
     "text": [
      "None\n",
      "None\n"
     ]
    }
   ],
   "source": [
    "A, Q_tilde = next_matrix(Q, w0, x0, w, x, 1000000)\n",
    "print(A)\n",
    "print(Q_tilde)"
   ]
  },
  {
   "cell_type": "markdown",
   "id": "d5dc144d",
   "metadata": {},
   "source": [
    "# Optimisation pour trouver des $q_k$ convenables"
   ]
  },
  {
   "cell_type": "code",
   "execution_count": 35,
   "id": "d20364fc",
   "metadata": {},
   "outputs": [
    {
     "name": "stdout",
     "output_type": "stream",
     "text": [
      "         Current function value: -1544.720227\n",
      "         Iterations: 2\n",
      "         Function evaluations: 464\n",
      "         Gradient evaluations: 113\n",
      "Échec de l'optimisation : Desired error not necessarily achieved due to precision loss.\n",
      "q optimal : [ 542.28644952 -298.51948752  453.01291108]\n",
      "phi(q_opt) : -1544.720226733944\n"
     ]
    },
    {
     "name": "stderr",
     "output_type": "stream",
     "text": [
      "c:\\Users\\Maxence CAUCHETEUX\\anaconda3\\Lib\\site-packages\\scipy\\optimize\\_minimize.py:733: OptimizeWarning: Desired error not necessarily achieved due to precision loss.\n",
      "  res = _minimize_bfgs(fun, x0, args, jac, callback, **options)\n"
     ]
    }
   ],
   "source": [
    "def compute_A(Q, w0, x0, x, q):\n",
    "    N = len(x)\n",
    "\n",
    "    # Construction de Q_tilde (matrice (N+1)x(N+1))\n",
    "    Q_tilde = np.zeros((N + 1, N + 1))\n",
    "    Q_tilde[1:, 1:] = Q\n",
    "    Q_tilde[0, 0] = -np.sum(q)\n",
    "    Q_tilde[0, 1:] = q\n",
    "    Q_tilde[N, 0] = w0  # note : w n'est pas utilisé ici\n",
    "\n",
    "    # Construction de x_tilde (vecteur N+1)\n",
    "    x_tilde = np.zeros(N + 1)\n",
    "    x_tilde[0] = x0\n",
    "    x_tilde[1:] = x\n",
    "\n",
    "    try:\n",
    "        Q_tilde_inv = np.linalg.inv(Q_tilde)\n",
    "    except np.linalg.LinAlgError:\n",
    "        raise ValueError(\"Q_tilde is not invertible.\")\n",
    "\n",
    "    # Calcul de A = Q_tilde @ diag(x_tilde) @ Q_tilde_inv\n",
    "    D_tilde = np.diag(x_tilde)\n",
    "    A = Q_tilde @ D_tilde @ Q_tilde_inv\n",
    "\n",
    "    return A\n",
    "\n",
    "def phi(q, Q, w0, x0, w, x):\n",
    "    A = compute_A(Q, w0, x0, x, q)\n",
    "    N = A.shape[0]\n",
    "    total = 0.0\n",
    "    for i in range(N):\n",
    "        for j in range(N):\n",
    "            if i != j:\n",
    "                if A[i, j] > 0:\n",
    "                    total += A[i, j]\n",
    "                else:\n",
    "                    total += A[i, j]\n",
    "    return total\n",
    "\n",
    "def optimize_q_unconstrained(Q, w0, x0, w, x):\n",
    "    N = len(x)\n",
    "    \n",
    "    def objective(q):\n",
    "        return phi(q, Q, w0, x0, w, x)\n",
    "    \n",
    "    q0 = np.random.randn(N)  # Initialisation sans normalisation\n",
    "    \n",
    "    res = minimize(\n",
    "        objective,\n",
    "        x0=q0,\n",
    "        method='BFGS',  # Méthode sans contraintes\n",
    "        options={'disp': True}\n",
    "    )\n",
    "    \n",
    "    if res.success:\n",
    "        print(\"Optimisation réussie\")\n",
    "    else:\n",
    "        print(\"Échec de l'optimisation :\", res.message)\n",
    "    \n",
    "    return res.x, res.fun\n",
    "\n",
    "q_opt, phi_val = optimize_q_unconstrained(Q, w0, x0, w, x)\n",
    "print(\"q optimal :\", q_opt)\n",
    "print(\"phi(q_opt) :\", phi_val)\n"
   ]
  },
  {
   "cell_type": "markdown",
   "id": "2a7b20dc",
   "metadata": {},
   "source": [
    "# À la main"
   ]
  },
  {
   "cell_type": "code",
   "execution_count": 44,
   "id": "2b105385",
   "metadata": {},
   "outputs": [],
   "source": [
    "def check_neg(Q_tilde, w0, x0, w, x):\n",
    "    N = len(Q_tilde) - 1\n",
    "    x_tilde = np.zeros(N + 1)\n",
    "    x_tilde[0] = x0\n",
    "    x_tilde[1:] = x\n",
    "    D = np.diag(x_tilde)\n",
    "    Q_tilde_inv = np.linalg.inv(Q_tilde)\n",
    "    M = Q_tilde @ D @ Q_tilde_inv\n",
    "    print(\"Q_tilde D Q_tilde^-1 :\")\n",
    "    print(M)\n",
    "    print('\\n')\n",
    "    for i in range(N+1):\n",
    "        for j in range(N+1):\n",
    "            if(i!=j and M[i,j] > 0):\n",
    "                return False\n",
    "    return True\n"
   ]
  },
  {
   "cell_type": "code",
   "execution_count": 46,
   "id": "f99e1f59",
   "metadata": {},
   "outputs": [
    {
     "name": "stdout",
     "output_type": "stream",
     "text": [
      "Q_tilde :\n",
      "[[ 0.4 -1.2 -0.6  1.4]\n",
      " [ 0.   1.  -1.   0. ]\n",
      " [ 0.   1.   2.  -3. ]\n",
      " [ 2.   1.   2.   3. ]]\n",
      "\n",
      "\n",
      "Q_tilde D Q_tilde^-1 :\n",
      "[[-19.175      -11.305      -16.76         3.855     ]\n",
      " [  2.5          3.83333333   0.66666667  -0.5       ]\n",
      " [ 40.          21.33333333  35.66666667  -8.        ]\n",
      " [-53.375      -34.69166667 -39.13333333  10.775     ]]\n",
      "\n",
      "\n",
      "False\n"
     ]
    }
   ],
   "source": [
    "q1 = -1.2\n",
    "q2 = -0.6  \n",
    "q3 =  1.4\n",
    "\n",
    "N = 3\n",
    "\n",
    "Q_tilde = np.zeros((N+1, N+1))\n",
    "Q_tilde[1:, 1:] = Q\n",
    "Q_tilde[N, 0] = w0\n",
    "Q_tilde[0,1] = q1\n",
    "Q_tilde[0,2] = q2\n",
    "Q_tilde[0, 3] = q3\n",
    "Q_tilde[0,0] = -q1-q2-q3\n",
    "\n",
    "print(\"Q_tilde :\")\n",
    "print(Q_tilde)\n",
    "print(\"\\n\")\n",
    "\n",
    "print(check_neg(Q_tilde, w0, x0, w, x))"
   ]
  }
 ],
 "metadata": {
  "kernelspec": {
   "display_name": "base",
   "language": "python",
   "name": "python3"
  },
  "language_info": {
   "codemirror_mode": {
    "name": "ipython",
    "version": 3
   },
   "file_extension": ".py",
   "mimetype": "text/x-python",
   "name": "python",
   "nbconvert_exporter": "python",
   "pygments_lexer": "ipython3",
   "version": "3.12.7"
  }
 },
 "nbformat": 4,
 "nbformat_minor": 5
}
