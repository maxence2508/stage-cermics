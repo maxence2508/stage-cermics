{
 "cells": [
  {
   "cell_type": "code",
   "execution_count": 262,
   "id": "087c3bcf",
   "metadata": {},
   "outputs": [],
   "source": [
    "import numpy as np\n",
    "import matplotlib.pyplot as plt"
   ]
  },
  {
   "cell_type": "code",
   "execution_count": 263,
   "id": "3cb70981",
   "metadata": {},
   "outputs": [],
   "source": [
    "def next_matrix(Q, w0, x0, w, x, max_iter):\n",
    "    N = len(x)\n",
    "    Q_tilde = np.zeros((N+1, N+1))\n",
    "    Q_tilde[1:, 1:] = Q\n",
    "    Q_tilde[N, 0] = w0\n",
    "    \n",
    "    x_tilde = np.zeros(N+1)\n",
    "    x_tilde[0] = x0\n",
    "    for i in range(N):\n",
    "        x_tilde[i+1] = x[i]\n",
    "\n",
    "    it = 0\n",
    "    while(it < max_iter):\n",
    "        is_compatible = True\n",
    "        q = np.random.randn(N)\n",
    "\n",
    "        Q_tilde[0, 0] = - np.sum(q)\n",
    "        for i in range(N):\n",
    "            Q_tilde[0, i+1] = q[i]\n",
    "\n",
    "        # vérification de la compatibilité\n",
    "        Q_tilde_inv = np.linalg.inv(Q_tilde)\n",
    "        \n",
    "        # [Q_tilde Diag(x0,x1,...,xN) Q_tilde-1]ij <= 0 pour i != j\n",
    "        D_tilde = np.diag(x_tilde)\n",
    "        A = Q_tilde @ D_tilde @ Q_tilde_inv\n",
    "        for i in range(N+1):\n",
    "            for j in range(N+1):\n",
    "                if(i != j and A[i, j] > 0):\n",
    "                    is_compatible = False\n",
    "        it += 1\n",
    "        \n",
    "        if(is_compatible):\n",
    "            return Q_tilde\n",
    "    return None"
   ]
  },
  {
   "cell_type": "code",
   "execution_count": 264,
   "id": "2918b5b7",
   "metadata": {},
   "outputs": [],
   "source": [
    "Q = np.array([[1, -1],\n",
    "              [1, 2]])\n",
    "\n",
    "x = np.array([1, 10])\n",
    "w = np.array([1, 2])\n",
    "x0 = 0.5\n",
    "w0 = 0.3"
   ]
  },
  {
   "cell_type": "code",
   "execution_count": 265,
   "id": "d20364fc",
   "metadata": {},
   "outputs": [
    {
     "name": "stdout",
     "output_type": "stream",
     "text": [
      "Optimization terminated successfully    (Exit mode 0)\n",
      "            Current function value: 96.11712515757011\n",
      "            Iterations: 12\n",
      "            Function evaluations: 68\n",
      "            Gradient evaluations: 12\n",
      "Optimisation réussie\n",
      "q optimal : [0.9230308 0.0769692]\n",
      "phi(q_opt) : 96.11712515757011\n"
     ]
    }
   ],
   "source": [
    "def compute_A(Q, w0, x0, x, q):\n",
    "    N = len(x)\n",
    "    \n",
    "    # Construction de Q_tilde (matrice (N+1)x(N+1))\n",
    "    Q_tilde = np.zeros((N+1, N+1))\n",
    "    Q_tilde[1:, 1:] = Q\n",
    "    Q_tilde[0, 0] = -np.sum(q)\n",
    "    Q_tilde[0, 1:] = q\n",
    "    Q_tilde[N, 0] = w0  # note : w n'est pas utilisé ici\n",
    "\n",
    "    # Construction de x_tilde (vecteur N+1)\n",
    "    x_tilde = np.zeros(N+1)\n",
    "    x_tilde[0] = x0\n",
    "    x_tilde[1:] = x\n",
    "\n",
    "    try:\n",
    "        Q_tilde_inv = np.linalg.inv(Q_tilde)\n",
    "    except np.linalg.LinAlgError:\n",
    "        raise ValueError(\"Q_tilde is not invertible.\")\n",
    "\n",
    "    # Calcul de A = Q_tilde @ diag(x_tilde) @ Q_tilde_inv\n",
    "    D_tilde = np.diag(x_tilde)\n",
    "    A = Q_tilde @ D_tilde @ Q_tilde_inv\n",
    "\n",
    "    return A\n",
    "\n",
    "def phi(q, Q, w0, x0, w, x, penalty=1e6):\n",
    "    A = compute_A(Q, w0, x0, x, q)\n",
    "    \n",
    "    N = A.shape[0]\n",
    "    total = 0.0\n",
    "    for i in range(N):\n",
    "        for j in range(N):\n",
    "            if i != j:\n",
    "                if A[i, j] > 0:\n",
    "                    total += 50 * A[i, j]\n",
    "                else:\n",
    "                    total += A[i, j]\n",
    "    return total\n",
    "\n",
    "from scipy.optimize import minimize\n",
    "\n",
    "import numpy as np\n",
    "from scipy.optimize import minimize\n",
    "\n",
    "def optimize_q_sum1(Q, w0, x0, w, x, penalty=1e6):\n",
    "    N = len(x)\n",
    "    \n",
    "    def objective(q):\n",
    "        return phi(q, Q, w0, x0, w, x, penalty)\n",
    "    \n",
    "    # Contrainte : somme des q égale 1\n",
    "    cons = {\n",
    "        'type': 'eq',\n",
    "        'fun': lambda q: np.sum(q) - 1\n",
    "    }\n",
    "    \n",
    "    q0 = np.random.randn(N)\n",
    "    q0 = q0 / np.sum(q0)  # normaliser q0 pour respecter la contrainte au départ\n",
    "    \n",
    "    res = minimize(\n",
    "        objective,\n",
    "        x0=q0,\n",
    "        method='SLSQP',  # méthode supportant contraintes\n",
    "        constraints=cons,\n",
    "        options={'disp': True}\n",
    "    )\n",
    "    \n",
    "    if res.success:\n",
    "        print(\"Optimisation réussie\")\n",
    "    else:\n",
    "        print(\"Échec de l'optimisation :\", res.message)\n",
    "    \n",
    "    return res.x, res.fun\n",
    "\n",
    "\n",
    "q_opt, phi_val = optimize_q_sum1(Q, w0, x0, w, x)\n",
    "print(\"q optimal :\", q_opt)\n",
    "print(\"phi(q_opt) :\", phi_val)\n"
   ]
  },
  {
   "cell_type": "code",
   "execution_count": 266,
   "id": "4c568131",
   "metadata": {},
   "outputs": [
    {
     "name": "stdout",
     "output_type": "stream",
     "text": [
      "None\n"
     ]
    }
   ],
   "source": [
    "print(next_matrix(Q, w0, x0, w, x, 10000))"
   ]
  }
 ],
 "metadata": {
  "kernelspec": {
   "display_name": "base",
   "language": "python",
   "name": "python3"
  },
  "language_info": {
   "codemirror_mode": {
    "name": "ipython",
    "version": 3
   },
   "file_extension": ".py",
   "mimetype": "text/x-python",
   "name": "python",
   "nbconvert_exporter": "python",
   "pygments_lexer": "ipython3",
   "version": "3.12.7"
  }
 },
 "nbformat": 4,
 "nbformat_minor": 5
}
